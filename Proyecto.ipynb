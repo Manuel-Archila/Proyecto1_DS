{
 "cells": [
  {
   "cell_type": "code",
   "execution_count": 2,
   "metadata": {},
   "outputs": [
    {
     "name": "stdout",
     "output_type": "stream",
     "text": [
      "Index(['CODIGO', 'DISTRITO', 'DEPARTAMENTO', 'MUNICIPIO', 'ESTABLECIMIENTO',\n",
      "       'DIRECCION', 'TELEFONO', 'SUPERVISOR', 'DIRECTOR', 'NIVEL', 'SECTOR',\n",
      "       'AREA', 'STATUS', 'MODALIDAD', 'JORNADA', 'PLAN', 'DEPARTAMENTAL'],\n",
      "      dtype='object')\n"
     ]
    }
   ],
   "source": [
    "import numpy as np\n",
    "import pandas as pd\n",
    "\n",
    "# Importar la data de los establecimientos \n",
    "\n",
    "ALTA_VERAPAZ = pd.read_csv('establecimientos/ALTA_VERAPAZ.csv', delimiter=',')\n",
    "BAJA_VERAPAZ = pd.read_csv('establecimientos/BAJA_VERAPAZ.csv', delimiter=',')\n",
    "CHIMALTENANGO = pd.read_csv('establecimientos/CHIMALTENANGO.csv', delimiter=',')\n",
    "CHIQUIMULA = pd.read_csv('establecimientos/CHIQUIMULA.csv', delimiter=',')\n",
    "EL_PROGRESO = pd.read_csv('establecimientos/EL_PROGRESO.csv', delimiter=',')\n",
    "ESCUINTLA = pd.read_csv('establecimientos/ESCUINTLA.csv', delimiter=',')\n",
    "GUATEMALA = pd.read_csv('establecimientos/GUATEMALA.csv', delimiter=',')\n",
    "CIUDAD_CAPITAL = pd.read_csv('establecimientos/CIUDAD_CAPITAL.csv', delimiter=',')\n",
    "HUEHUETENANGO = pd.read_csv('establecimientos/HUEHUETENANGO.csv', delimiter=',')\n",
    "IZABAL = pd.read_csv('establecimientos/IZABAL.csv', delimiter=',')\n",
    "JALAPA = pd.read_csv('establecimientos/JALAPA.csv', delimiter=',')\n",
    "JUTIAPA = pd.read_csv('establecimientos/JUTIAPA.csv', delimiter=',')\n",
    "PETEN = pd.read_csv('establecimientos/PETEN.csv', delimiter=',')\n",
    "QUETZALTENANGO = pd.read_csv('establecimientos/QUETZALTENANGO.csv', delimiter=',')\n",
    "QUICHE = pd.read_csv('establecimientos/QUICHE.csv', delimiter=',')\n",
    "RETALHULEU = pd.read_csv('establecimientos/RETALHULEU.csv', delimiter=',')\n",
    "SACATEPEQUEZ = pd.read_csv('establecimientos/SACATEPEQUEZ.csv', delimiter=',')\n",
    "SAN_MARCOS = pd.read_csv('establecimientos/SAN_MARCOS.csv', delimiter=',')\n",
    "SANTA_ROSA = pd.read_csv('establecimientos/SANTA_ROSA.csv', delimiter=',')\n",
    "SOLOLA = pd.read_csv('establecimientos/SOLOLA.csv', delimiter=',')\n",
    "SUCHITEPEQUEZ = pd.read_csv('establecimientos/SUCHITEPEQUEZ.csv', delimiter=',')\n",
    "TOTONICAPAN = pd.read_csv('establecimientos/TOTONICAPAN.csv', delimiter=',')\n",
    "ZACAPA = pd.read_csv('establecimientos/ZACAPA.csv', delimiter=',')\n",
    "\n",
    "\n",
    "dataframes = [ALTA_VERAPAZ, BAJA_VERAPAZ, CHIMALTENANGO, CHIQUIMULA, EL_PROGRESO, ESCUINTLA, GUATEMALA,\n",
    "              CIUDAD_CAPITAL, HUEHUETENANGO, IZABAL, JALAPA, JUTIAPA, PETEN, QUETZALTENANGO, QUICHE,\n",
    "              RETALHULEU, SACATEPEQUEZ, SAN_MARCOS, SANTA_ROSA, SOLOLA, SUCHITEPEQUEZ, TOTONICAPAN, ZACAPA]\n",
    "\n",
    "# Concatenar todos los DataFrames en uno solo\n",
    "df = pd.concat(dataframes, ignore_index=True)\n",
    "\n",
    "print(df.columns)\n",
    "\n"
   ]
  },
  {
   "cell_type": "code",
   "execution_count": 6,
   "metadata": {},
   "outputs": [
    {
     "name": "stdout",
     "output_type": "stream",
     "text": [
      "CABECERA MUNICIPAL                        263\n",
      "BARRIO EL CENTRO                           63\n",
      "BARRIO EL PORVENIR                         20\n",
      "BARRIO EL CALVARIO                         19\n",
      "BARRIO LAS FLORES                          15\n",
      "                                         ... \n",
      "9A CALLE 2-65                               1\n",
      "9A CALLE 5-49                               1\n",
      "6A. AVE. 3-66                               1\n",
      "10 CALLE 2-68                               1\n",
      "KM.2 SALIDA A SAN JUAN CHAMELCO ZONA 8      1\n",
      "Name: DIRECCION, Length: 5882, dtype: int64\n"
     ]
    }
   ],
   "source": [
    "print(df[\"DIRECCION\"].value_counts())\n",
    "print(df.shape)"
   ]
  },
  {
   "cell_type": "code",
   "execution_count": null,
   "metadata": {},
   "outputs": [],
   "source": []
  }
 ],
 "metadata": {
  "kernelspec": {
   "display_name": "Python 3",
   "language": "python",
   "name": "python3"
  },
  "language_info": {
   "codemirror_mode": {
    "name": "ipython",
    "version": 3
   },
   "file_extension": ".py",
   "mimetype": "text/x-python",
   "name": "python",
   "nbconvert_exporter": "python",
   "pygments_lexer": "ipython3",
   "version": "3.10.5"
  },
  "orig_nbformat": 4
 },
 "nbformat": 4,
 "nbformat_minor": 2
}
