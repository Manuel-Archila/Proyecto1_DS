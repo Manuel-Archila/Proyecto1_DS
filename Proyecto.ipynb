{
 "cells": [
  {
   "cell_type": "code",
   "execution_count": 1,
   "metadata": {},
   "outputs": [
    {
     "name": "stdout",
     "output_type": "stream",
     "text": [
      "Index(['CODIGO', 'DISTRITO', 'DEPARTAMENTO', 'MUNICIPIO', 'ESTABLECIMIENTO',\n",
      "       'DIRECCION', 'TELEFONO', 'SUPERVISOR', 'DIRECTOR', 'NIVEL', 'SECTOR',\n",
      "       'AREA', 'STATUS', 'MODALIDAD', 'JORNADA', 'PLAN', 'DEPARTAMENTAL'],\n",
      "      dtype='object')\n"
     ]
    }
   ],
   "source": [
    "import numpy as np\n",
    "import pandas as pd\n",
    "\n",
    "# Importar la data de los establecimientos \n",
    "ALTA_VERAPAZ = pd.read_csv('establecimientos/ALTA_VERAPAZ.csv', delimiter=',')\n",
    "BAJA_VERAPAZ = pd.read_csv('establecimientos/BAJA_VERAPAZ.csv', delimiter=',')\n",
    "CHIMALTENANGO = pd.read_csv('establecimientos/CHIMALTENANGO.csv', delimiter=',')\n",
    "CHIQUIMULA = pd.read_csv('establecimientos/CHIQUIMULA.csv', delimiter=',')\n",
    "EL_PROGRESO = pd.read_csv('establecimientos/EL_PROGRESO.csv', delimiter=',')\n",
    "ESCUINTLA = pd.read_csv('establecimientos/ESCUINTLA.csv', delimiter=',')\n",
    "GUATEMALA = pd.read_csv('establecimientos/GUATEMALA.csv', delimiter=',')\n",
    "CIUDAD_CAPITAL = pd.read_csv('establecimientos/CIUDAD_CAPITAL.csv', delimiter=',')\n",
    "HUEHUETENANGO = pd.read_csv('establecimientos/HUEHUETENANGO.csv', delimiter=',')\n",
    "IZABAL = pd.read_csv('establecimientos/IZABAL.csv', delimiter=',')\n",
    "JALAPA = pd.read_csv('establecimientos/JALAPA.csv', delimiter=',')\n",
    "JUTIAPA = pd.read_csv('establecimientos/JUTIAPA.csv', delimiter=',')\n",
    "PETEN = pd.read_csv('establecimientos/PETEN.csv', delimiter=',')\n",
    "QUETZALTENANGO = pd.read_csv('establecimientos/QUETZALTENANGO.csv', delimiter=',')\n",
    "QUICHE = pd.read_csv('establecimientos/QUICHE.csv', delimiter=',')\n",
    "RETALHULEU = pd.read_csv('establecimientos/RETALHULEU.csv', delimiter=',')\n",
    "SACATEPEQUEZ = pd.read_csv('establecimientos/SACATEPEQUEZ.csv', delimiter=',')\n",
    "SAN_MARCOS = pd.read_csv('establecimientos/SAN_MARCOS.csv', delimiter=',')\n",
    "SANTA_ROSA = pd.read_csv('establecimientos/SANTA_ROSA.csv', delimiter=',')\n",
    "SOLOLA = pd.read_csv('establecimientos/SOLOLA.csv', delimiter=',')\n",
    "SUCHITEPEQUEZ = pd.read_csv('establecimientos/SUCHITEPEQUEZ.csv', delimiter=',')\n",
    "TOTONICAPAN = pd.read_csv('establecimientos/TOTONICAPAN.csv', delimiter=',')\n",
    "ZACAPA = pd.read_csv('establecimientos/ZACAPA.csv', delimiter=',')\n",
    "\n",
    "\n",
    "dataframes = [ALTA_VERAPAZ, BAJA_VERAPAZ, CHIMALTENANGO, CHIQUIMULA, EL_PROGRESO, ESCUINTLA, GUATEMALA,\n",
    "              CIUDAD_CAPITAL, HUEHUETENANGO, IZABAL, JALAPA, JUTIAPA, PETEN, QUETZALTENANGO, QUICHE,\n",
    "              RETALHULEU, SACATEPEQUEZ, SAN_MARCOS, SANTA_ROSA, SOLOLA, SUCHITEPEQUEZ, TOTONICAPAN, ZACAPA]\n",
    "\n",
    "# Concatenar todos los DataFrames en uno solo\n",
    "df = pd.concat(dataframes, ignore_index=True)\n",
    "\n",
    "print(df.columns)\n"
   ]
  },
  {
   "cell_type": "markdown",
   "metadata": {},
   "source": [
    "Ver si hay establecimientos con valores nulos o strings vacíos"
   ]
  },
  {
   "cell_type": "code",
   "execution_count": 2,
   "metadata": {},
   "outputs": [
    {
     "name": "stdout",
     "output_type": "stream",
     "text": [
      "0\n",
      "0\n",
      "CODIGO                0\n",
      "DISTRITO            209\n",
      "DEPARTAMENTO          0\n",
      "MUNICIPIO             0\n",
      "ESTABLECIMIENTO       0\n",
      "DIRECCION            51\n",
      "TELEFONO            547\n",
      "SUPERVISOR          210\n",
      "DIRECTOR           1356\n",
      "NIVEL                 0\n",
      "SECTOR                0\n",
      "AREA                  0\n",
      "STATUS                0\n",
      "MODALIDAD             0\n",
      "JORNADA               0\n",
      "PLAN                  0\n",
      "DEPARTAMENTAL         0\n",
      "dtype: int64\n"
     ]
    }
   ],
   "source": [
    "print(df[\"ESTABLECIMIENTO\"].isna().sum())\n",
    "\n",
    "print(df[\"ESTABLECIMIENTO\"].str.isspace().sum())\n",
    "\n",
    "print(df.isna().sum())"
   ]
  },
  {
   "cell_type": "markdown",
   "metadata": {},
   "source": [
    "Sustituir las multiples comillas por una sola comilla y eliminarlas del inicio y final de la cadena"
   ]
  },
  {
   "cell_type": "code",
   "execution_count": 3,
   "metadata": {},
   "outputs": [],
   "source": [
    "\n",
    "df['ESTABLECIMIENTO'] = df['ESTABLECIMIENTO'].str.replace('\"', '')\n"
   ]
  },
  {
   "cell_type": "markdown",
   "metadata": {},
   "source": [
    "Sustituir los valores '----' por NaN."
   ]
  },
  {
   "cell_type": "code",
   "execution_count": 4,
   "metadata": {},
   "outputs": [
    {
     "name": "stdout",
     "output_type": "stream",
     "text": [
      "CODIGO                0\n",
      "DISTRITO            209\n",
      "DEPARTAMENTO          0\n",
      "MUNICIPIO             0\n",
      "ESTABLECIMIENTO      16\n",
      "DIRECCION            55\n",
      "TELEFONO            547\n",
      "SUPERVISOR          212\n",
      "DIRECTOR           1767\n",
      "NIVEL                 0\n",
      "SECTOR                0\n",
      "AREA                  0\n",
      "STATUS                0\n",
      "MODALIDAD             0\n",
      "JORNADA               0\n",
      "PLAN                  0\n",
      "DEPARTAMENTAL         0\n",
      "dtype: int64\n"
     ]
    }
   ],
   "source": [
    "df.replace(to_replace=r'^-+|\\s+$', value=np.nan, regex=True, inplace=True)\n",
    "print(df.isnull().sum())"
   ]
  },
  {
   "cell_type": "markdown",
   "metadata": {},
   "source": [
    "Se realizaron estas modificiaciones con el fin de obtener un dataset más limpio y con menos ruido, para poder realizar un análisis más profundo y preciso. El que se hayan reemplazado los valores que tenian --- en lugar de NAN era porque al tener un valor --- se analizaba como que si existiera un registro en ese campo cuando realmente no. Y esto para el analisis podria generar conflicto. Además de ello se eliminaron todas las \"\"\"\" porque habian muchos registros que tenian este valor y no se podia realizar un analisis correcto. Por último en la direccion se determino que lo correcto era dejar los valores con las comillas porque dentro de la delimitacion existian , lo que pudo haber ocacionado un error en el analisis a la hora de ir separando los campos por columnas."
   ]
  },
  {
   "cell_type": "code",
   "execution_count": 5,
   "metadata": {},
   "outputs": [],
   "source": [
    "# exportar como csv\n",
    "df.to_csv('data.csv', index=False)\n"
   ]
  },
  {
   "cell_type": "markdown",
   "metadata": {},
   "source": [
    "- CODIGO\n",
    "    * Es un string que identifica a un establecimiento educativo:\n",
    "        * EJ: 16-01-0138-46\n",
    "- DISTRITO\n",
    "    * Es un string que identifica a un distrito escolar:\n",
    "        * EJ: 16-031.\n",
    "- DEPARTAMENTO\n",
    "    * Es el nombre en mayusculas del departamento al que pertence el establecimiento:\n",
    "        * EJ: \"GUATEMALA\"\n",
    "- MUNICIPIO\n",
    "    * Es el nombre en mayusculas del municipio al que pertence el establecimiento. \n",
    "        * EJ: \"GUATEMALA\"\n",
    "- ESTABLECIMIENTO\n",
    "    * Es el nombre en mayusculas del establecimiento: \n",
    "        * EJ: \"INSTITUTO NACIONAL DE EDUCACION DIVERSIFICADA\"\n",
    "- DIRECCION\n",
    "    * Es un string que contiene la direccion del establecimiento educativo:\n",
    "        * EJ: \"KM. 15.5 CARRETERA A EL SALVADOR\"\n",
    "- TELEFONO\n",
    "    * Es un string que contiene el numero de telefono del establecimiento educativo:\n",
    "        * EJ: \"6630-0000\"\n",
    "- SUPERVISOR   \n",
    "    * Es un string que contiene el nombre del supervisor del establecimiento educativo:\n",
    "        * EJ: \"MARIO ALBERTO GARCIA GARCIA\"\n",
    "- DIRECTOR\n",
    "    * Es un string que contiene el nombre del director del establecimiento educativo:\n",
    "        * EJ: \"MARIO ALBERTO GARCIA GARCIA\"\n",
    "- NIVEL\n",
    "    * Es un string que contiene el nivel del establecimiento educativo:\n",
    "        * \"DIVERSIFICADO\"\n",
    "- SECTOR\n",
    "    * Es un string que contiene el sector del establecimiento educativo:\n",
    "        * \"PRIVADO\"\n",
    "        * \"OFICIAL\"\n",
    "        * \"COPERATIVA\"\n",
    "        * \"MUNICIPAL\"\n",
    "- AREA\n",
    "    * Es un string que contiene en que area se encuentra el establecimiento educativo:\n",
    "        * \"URBANA\"\n",
    "        * \"RURAL\"\n",
    "- STATUS\n",
    "    * Es un string que contiene el status del establecimiento educativo:\n",
    "        * \"ABIERTA\"\n",
    "        * \"CERRADA\"\n",
    "        * \"SIN ESPECIFICAR\"\n",
    "- MODALIDAD\n",
    "    * Es un string que determina si la modalidad del establecimiento es en un lenguaje o más:\n",
    "        * \"MONOLINGUE\"\n",
    "        * \"BILINGUE\"\n",
    "- JORNADA\n",
    "    * Es un string que determina la jornada en la que opera el establecimiento educativo\n",
    "        * \"MATUTINA\"\n",
    "        * \"VESPERTINA\"\n",
    "        * \"NOCTURNA\"\n",
    "        * \"INTERMEDIA\"\n",
    "        * \"DOBLE\"\n",
    "        * \"SIN JORNADA\"\n",
    "- PLAN\n",
    "    * Es un string que establece el plan de estudio del establecimiento educativo:\n",
    "        * \"DIARIO(REGULAR)\"\n",
    "        * \"FIN DE SEMANA\"\n",
    "        * \"SEMIPRESENCIAL (FIN DE SEMANA)\"\n",
    "        * \"SEMIPRESENCIAL (UN DÍA A LA SEMANA)\"\n",
    "        * \"A DISTANCIA\"\n",
    "        * \"SEMIPRESENCIAL\"\n",
    "        * \"SEMIPRESENCIAL (DOS DÍAS A LA SEMANA)\"\n",
    "        * \"SABATINO\"\n",
    "        * \"VIRTUAL A DISTANCIA\"\n",
    "        * \"DOMINICAL\"\n",
    "        * \"MIXTO\"\n",
    "        * \"INTERCALADO\"\n",
    "        * \"IRREGULAR\"\n",
    "- DEPARTAMENTAL\n",
    "    * Es un string que determina a que departamento pertenece el establecimiento educativo:\n",
    "        * GUATEMALA NORTE       \n",
    "        * GUATEMALA SUR           \n",
    "        * GUATEMALA OCCIDENTE     \n",
    "        * ESCUINTLA               \n",
    "        * SAN MARCOS              \n",
    "        * HUEHUETENANGO           \n",
    "        * QUETZALTENANGO          \n",
    "        * PETÉN                   \n",
    "        * SUCHITEPÉQUEZ           \n",
    "        * GUATEMALA ORIENTE       \n",
    "        * IZABAL                  \n",
    "        * CHIMALTENANGO           \n",
    "        * ALTA VERAPAZ            \n",
    "        * JUTIAPA                 \n",
    "        * RETALHULEU              \n",
    "        * SACATEPÉQUEZ            \n",
    "        * QUICHÉ                  \n",
    "        * CHIQUIMULA              \n",
    "        * SANTA ROSA              \n",
    "        * JALAPA                  \n",
    "        * SOLOLÁ                  \n",
    "        * EL PROGRESO             \n",
    "        * BAJA VERAPAZ            \n",
    "        * ZACAPA                   \n",
    "        * TOTONICAPÁN              \n",
    "        * QUICHÉ NORTE             "
   ]
  }
 ],
 "metadata": {
  "kernelspec": {
   "display_name": "Python 3",
   "language": "python",
   "name": "python3"
  },
  "language_info": {
   "codemirror_mode": {
    "name": "ipython",
    "version": 3
   },
   "file_extension": ".py",
   "mimetype": "text/x-python",
   "name": "python",
   "nbconvert_exporter": "python",
   "pygments_lexer": "ipython3",
   "version": "3.10.5"
  },
  "orig_nbformat": 4
 },
 "nbformat": 4,
 "nbformat_minor": 2
}
